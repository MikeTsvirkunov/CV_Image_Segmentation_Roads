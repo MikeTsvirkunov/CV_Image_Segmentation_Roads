{
 "cells": [
  {
   "cell_type": "code",
   "execution_count": 1,
   "metadata": {},
   "outputs": [],
   "source": [
    "from zipfile import ZipFile"
   ]
  },
  {
   "cell_type": "code",
   "execution_count": 2,
   "metadata": {},
   "outputs": [],
   "source": [
    "images_zipped = './main_data/images/train_color.zip'\n",
    "maskes_zipped = './main_data/images/train_label.zip'"
   ]
  },
  {
   "cell_type": "code",
   "execution_count": 3,
   "metadata": {},
   "outputs": [],
   "source": [
    "with ZipFile(maskes_zipped, 'r') as zip_file:\n",
    "   file_info_list = zip_file.infolist()\n",
    "   maskes_zipped_file_list = []\n",
    "   for file_info in file_info_list[1:]:\n",
    "      maskes_zipped_file_list.append(file_info.filename)\n",
    "    "
   ]
  },
  {
   "cell_type": "code",
   "execution_count": 4,
   "metadata": {},
   "outputs": [],
   "source": [
    "with ZipFile(images_zipped, 'r') as zip_file:\n",
    "   file_info_list = zip_file.infolist()\n",
    "   images_zipped_file_list = []\n",
    "   for file_info in file_info_list[1:]:\n",
    "      images_zipped_file_list.append(file_info.filename)\n",
    "    "
   ]
  },
  {
   "cell_type": "code",
   "execution_count": 5,
   "metadata": {},
   "outputs": [
    {
     "data": {
      "text/plain": [
       "['train_color/171206_030436966_Camera_5.jpg',\n",
       " 'train_color/170908_065604834_Camera_6.jpg',\n",
       " 'train_color/171206_030430056_Camera_5.jpg',\n",
       " 'train_color/171206_034420095_Camera_5.jpg',\n",
       " 'train_color/170927_064208455_Camera_6.jpg']"
      ]
     },
     "execution_count": 5,
     "metadata": {},
     "output_type": "execute_result"
    }
   ],
   "source": [
    "images_zipped_file_list[:5]"
   ]
  },
  {
   "cell_type": "code",
   "execution_count": 6,
   "metadata": {},
   "outputs": [
    {
     "data": {
      "text/plain": [
       "['train_label/170908_082148219_Camera_5_instanceIds.png',\n",
       " 'train_label/170927_064245529_Camera_6_instanceIds.png',\n",
       " 'train_label/171206_032254493_Camera_5_instanceIds.png',\n",
       " 'train_label/170927_070434028_Camera_5_instanceIds.png',\n",
       " 'train_label/170908_082346578_Camera_6_instanceIds.png']"
      ]
     },
     "execution_count": 6,
     "metadata": {},
     "output_type": "execute_result"
    }
   ],
   "source": [
    "maskes_zipped_file_list[:5]"
   ]
  }
 ],
 "metadata": {
  "kernelspec": {
   "display_name": "venv",
   "language": "python",
   "name": "python3"
  },
  "language_info": {
   "codemirror_mode": {
    "name": "ipython",
    "version": 3
   },
   "file_extension": ".py",
   "mimetype": "text/x-python",
   "name": "python",
   "nbconvert_exporter": "python",
   "pygments_lexer": "ipython3",
   "version": "3.10.12"
  }
 },
 "nbformat": 4,
 "nbformat_minor": 2
}
